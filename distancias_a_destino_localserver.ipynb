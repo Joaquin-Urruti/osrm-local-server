{
  "cells": [
    {
      "cell_type": "markdown",
      "id": "gYPFzZTd8gxR",
      "metadata": {
        "id": "gYPFzZTd8gxR"
      },
      "source": [
        "# Generar Matriz de Distancias\n",
        "\n",
        "### Instrucciones:\n",
        "\n",
        "1.- Primero cargar en la carpeta de la izquierda los inputs del programa que son los siguientes\n",
        "> a.- Origenes: Es una capa shapefile de poligonos con los campos que quiero calcular.  \n",
        "Tiene que tener los nombres de los campos en una columna llamada \"idest\".  \n",
        "En general esta capa es una parte del espcul.  \n",
        "Nuna cargar mas de una zona porque la API gratuita no lo permite.   \n",
        "\n",
        "> b.- Destinos: Es una capa shapefile de puntos con los destinos.  \n",
        "Debe tener la columna \"Localidad\" con las localidades de los puertos, molinos o acopios de la capa.  \n",
        "  \n",
        "2.- Una vez cargadas las dos capas, ir al menu \"Entorno de ejecución\" y seleccionar \"Reiniciar y ejecutar todo\".  \n",
        "\n",
        "3.- Una vez hecho esto dejar procesar la info y cuando termine de correr el script, aparecerán tildes en todas las casillas y abajo y aparecerá un archivo excel con el nombre \"matrix.xlsx\" en la misma carpeta de la izquierda donde cargamos los inputs. Hacer click en los 3 puntitos y descargar el archivo con los resultados.\n"
      ]
    },
    {
      "cell_type": "code",
      "execution_count": 55,
      "id": "4b443e94-4803-44de-9e1e-fa98fcdde8c3",
      "metadata": {
        "id": "4b443e94-4803-44de-9e1e-fa98fcdde8c3"
      },
      "outputs": [],
      "source": [
        "import pandas as pd\n",
        "import geopandas as gpd\n",
        "import osmnx as ox\n",
        "import datetime as datetime\n",
        "import os\n",
        "from pathlib import Path\n",
        "import time\n",
        "import requests"
      ]
    },
    {
      "cell_type": "code",
      "execution_count": null,
      "id": "7d50236b-b91a-4015-82f4-5a550e466d0f",
      "metadata": {
        "colab": {
          "base_uri": "https://localhost:8080/",
          "height": 242
        },
        "id": "7d50236b-b91a-4015-82f4-5a550e466d0f",
        "outputId": "96a6749e-7b01-49af-fc4b-0badf5d1b0bb"
      },
      "outputs": [],
      "source": [
        "try:\n",
        "  espcul_gdf = gpd.read_file('./inputs/origenes.shp')\n",
        "\n",
        "except Exception as e:\n",
        "  espcul_gdf = gpd.read_file('./inputs/origenes.gpkg')\n",
        "\n",
        "espcul_gdf = espcul_gdf.loc[espcul_gdf.campania == '24/25']\n",
        "\n",
        "espcul_gdf = espcul_gdf[['zona', 'idest', 'geometry']]\n",
        "\n",
        "print(espcul_gdf.shape)\n",
        "espcul_gdf.head()"
      ]
    },
    {
      "cell_type": "code",
      "execution_count": null,
      "id": "0rUORQ9WbMVW",
      "metadata": {
        "colab": {
          "base_uri": "https://localhost:8080/"
        },
        "id": "0rUORQ9WbMVW",
        "outputId": "71902b4f-6948-48e4-b2e3-daa9cd464c1c"
      },
      "outputs": [],
      "source": [
        "zonas_list = espcul_gdf.zona.unique()\n",
        "zonas_list"
      ]
    },
    {
      "cell_type": "code",
      "execution_count": 58,
      "id": "b081c635",
      "metadata": {},
      "outputs": [],
      "source": [
        "# espcul_gdf = espcul_gdf.loc[espcul_gdf.zona.isin(['LA PAMPA'])]"
      ]
    },
    {
      "cell_type": "code",
      "execution_count": null,
      "id": "6f5a17f3-465f-4165-84a7-7643fbe3aa7a",
      "metadata": {
        "colab": {
          "base_uri": "https://localhost:8080/",
          "height": 278
        },
        "id": "6f5a17f3-465f-4165-84a7-7643fbe3aa7a",
        "outputId": "e3d9bda7-7d80-4b1e-a4ec-bddda99aa189"
      },
      "outputs": [],
      "source": [
        "espcul_gdf = gpd.GeoDataFrame(espcul_gdf, geometry='geometry').reset_index()\n",
        "espcul_gdf['geometry'] = espcul_gdf.buffer(0.0001)\n",
        "espcul_dissolve = espcul_gdf.dissolve(by='idest').reset_index()\n",
        "\n",
        "print(espcul_dissolve.shape)\n",
        "espcul_dissolve.head()"
      ]
    },
    {
      "cell_type": "code",
      "execution_count": null,
      "id": "8f66fb08-202d-4bcf-84c4-4bbe651e2223",
      "metadata": {
        "colab": {
          "base_uri": "https://localhost:8080/",
          "height": 367
        },
        "id": "8f66fb08-202d-4bcf-84c4-4bbe651e2223",
        "outputId": "f4814c3b-3259-471e-b887-8d52599c8e1b"
      },
      "outputs": [],
      "source": [
        "espcul_dissolve['x']= espcul_dissolve['geometry'].centroid.x\n",
        "espcul_dissolve['y']= espcul_dissolve['geometry'].centroid.y\n",
        "espcul_dissolve['centres']= espcul_dissolve['geometry'].centroid\n",
        "espcul_centroids = espcul_dissolve.loc[:,['idest','x','y','centres']].copy()\n",
        "espcul_centroids = espcul_centroids.rename(columns = {'centres': 'geometry'})\n",
        "espcul_centroids = espcul_centroids.to_crs('EPSG:4326')\n",
        "espcul_centroids.head()"
      ]
    },
    {
      "cell_type": "code",
      "execution_count": 61,
      "id": "f2ce3aa9-bff2-41cd-b5f2-60870c58d6c0",
      "metadata": {
        "colab": {
          "base_uri": "https://localhost:8080/"
        },
        "id": "f2ce3aa9-bff2-41cd-b5f2-60870c58d6c0",
        "outputId": "e36d19b4-6136-4e54-a946-99e7af317108"
      },
      "outputs": [],
      "source": [
        "espcul_centroids.to_file(driver = \"GPKG\",filename='./inputs/centoids.gpkg', encoding='utf-8', index=False)"
      ]
    },
    {
      "cell_type": "code",
      "execution_count": 62,
      "id": "c857a2b2-c44c-4bae-9ffc-91c4207af5bc",
      "metadata": {
        "id": "c857a2b2-c44c-4bae-9ffc-91c4207af5bc"
      },
      "outputs": [],
      "source": [
        "espcul_coord = {}\n",
        "\n",
        "for i in range(0, len(espcul_centroids)):\n",
        "    origin = espcul_centroids['idest'][i]\n",
        "    x = espcul_centroids['geometry'][i].x\n",
        "    y = espcul_centroids['geometry'][i].y\n",
        "    coords = (y, x)\n",
        "    espcul_coord[origin]=coords\n",
        "# espcul_coord"
      ]
    },
    {
      "cell_type": "code",
      "execution_count": null,
      "id": "b30ac013-759c-4f25-9c55-fc16b7aa35d1",
      "metadata": {
        "colab": {
          "base_uri": "https://localhost:8080/"
        },
        "id": "b30ac013-759c-4f25-9c55-fc16b7aa35d1",
        "outputId": "3e371041-f1dd-4af9-e8c7-cd2f202ba6a9"
      },
      "outputs": [],
      "source": [
        "# Opcion para hacer la matriz con todos los destinos\n",
        "try:\n",
        "  destinos_gdf = gpd.read_file('./inputs/destinos.shp')\n",
        "\n",
        "except Exception as e:\n",
        "  destinos_gdf = gpd.read_file('./inputs/destinos.gpkg')\n",
        "\n",
        "\n",
        "print(destinos_gdf.shape)\n",
        "destinos_gdf.head()\n",
        "\n",
        "destinos_coord = {}\n",
        "\n",
        "for i in range(len(destinos_gdf)):\n",
        "    destino = destinos_gdf['Localidad'][i]\n",
        "    punto = destinos_gdf['geometry'][i].centroid  # Calcula el centroide\n",
        "    coords = (punto.y, punto.x)\n",
        "    destinos_coord[destino] = coords\n",
        "\n",
        "list(destinos_coord.items())[:4]"
      ]
    },
    {
      "cell_type": "markdown",
      "id": "f48f7661-f119-42ce-8560-2817dcc29f63",
      "metadata": {
        "id": "f48f7661-f119-42ce-8560-2817dcc29f63"
      },
      "source": [
        "The centroids may be away form actual street network. Use osmnx to find the closest node on OSM network for routing"
      ]
    },
    {
      "cell_type": "code",
      "execution_count": 64,
      "id": "bc7e39d5-5e56-4d99-b1f2-d3a17bb7a13d",
      "metadata": {
        "id": "bc7e39d5-5e56-4d99-b1f2-d3a17bb7a13d"
      },
      "outputs": [],
      "source": [
        "arr = espcul_gdf.to_crs('EPSG:4326').total_bounds\n",
        "tupla = tuple(arr)\n",
        "# print(tupla)"
      ]
    },
    {
      "cell_type": "code",
      "execution_count": null,
      "id": "e0011f3f-edf8-4eec-9ce8-cac82b1611d3",
      "metadata": {
        "id": "e0011f3f-edf8-4eec-9ce8-cac82b1611d3"
      },
      "outputs": [],
      "source": [
        "G = ox.graph.graph_from_bbox(tupla, network_type='drive')\n",
        "nodes = G.nodes()"
      ]
    },
    {
      "cell_type": "code",
      "execution_count": null,
      "id": "d1570a02-6761-4368-88f2-af4a63a30412",
      "metadata": {
        "id": "d1570a02-6761-4368-88f2-af4a63a30412"
      },
      "outputs": [],
      "source": [
        "espcul_coord_snapped = {}\n",
        "for name, coords in espcul_coord.items():\n",
        "    node = ox.distance.nearest_nodes(G, coords[1], coords[0])\n",
        "    info = nodes[node]\n",
        "    espcul_coord_snapped[name] = (info['y'], info['x'])\n",
        "\n",
        "espcul_coord_snapped"
      ]
    },
    {
      "cell_type": "code",
      "execution_count": 67,
      "id": "3919aca4-16b8-47d3-8955-7ee1af728261",
      "metadata": {
        "id": "3919aca4-16b8-47d3-8955-7ee1af728261"
      },
      "outputs": [],
      "source": [
        "def get_driving_distance(source_coordinates, dest_coordinates, port=5001):\n",
        "    \"\"\"\n",
        "    Returns the driving distance in kilometers between two coordinates using a local OSRM server.\n",
        "\n",
        "    Parameters:\n",
        "    - source_coordinates: tuple (lat, lon)\n",
        "    - dest_coordinates: tuple (lat, lon)\n",
        "    - port: local port where OSRM server is running (default is 5000)\n",
        "\n",
        "    Returns:\n",
        "    - distance in kilometers (float)\n",
        "    - returns -9999 if request fails\n",
        "    \"\"\"\n",
        "    base_url = f\"http://localhost:{port}/route/v1/driving\"\n",
        "    # OSRM expects lon,lat\n",
        "    src_lon, src_lat = source_coordinates[1], source_coordinates[0]\n",
        "    dst_lon, dst_lat = dest_coordinates[1], dest_coordinates[0]\n",
        "\n",
        "    url = f\"{base_url}/{src_lon},{src_lat};{dst_lon},{dst_lat}?overview=false\"\n",
        "\n",
        "    try:\n",
        "        response = requests.get(url)\n",
        "        if response.status_code == 200:\n",
        "            data = response.json()\n",
        "            distance = data['routes'][0]['distance']  # in meters\n",
        "            return distance / 1000  # return in kilometers\n",
        "        else:\n",
        "            print(f\"Request failed. Status code: {response.status_code}\")\n",
        "            return -9999\n",
        "    except Exception as e:\n",
        "        print(f\"Error connecting to OSRM server: {e}\")\n",
        "        return -9999"
      ]
    },
    {
      "cell_type": "code",
      "execution_count": 68,
      "id": "50603682-0629-4ba3-833b-f77dd39e9026",
      "metadata": {
        "collapsed": true,
        "id": "50603682-0629-4ba3-833b-f77dd39e9026"
      },
      "outputs": [],
      "source": [
        "rows = []\n",
        "\n",
        "for k1, v1 in espcul_coord_snapped.items():\n",
        "    for k2, v2 in destinos_coord.items():\n",
        "        origin = v1\n",
        "        destino = v2\n",
        "        distance = get_driving_distance(origin, destino, port=5001)\n",
        "        \n",
        "        rows.append({\n",
        "            'campo': k1,\n",
        "            'campo_x': v1[1],\n",
        "            'campo_y': v1[0],\n",
        "            'destino': k2,\n",
        "            'destino_x': v2[1],\n",
        "            'destino_y': v2[0],\n",
        "            'distancia': int(distance)\n",
        "        })\n",
        "\n",
        "df = pd.DataFrame(rows)\n",
        "\n",
        "# df.head()"
      ]
    },
    {
      "cell_type": "code",
      "execution_count": null,
      "id": "7c1f0151",
      "metadata": {},
      "outputs": [],
      "source": [
        "resultados = pd.merge(df, espcul_dissolve[['idest', 'zona']], left_on='campo', right_on='idest', how='left').drop(columns='idest')\n",
        "resultados = resultados[['zona', 'campo', 'campo_x', 'campo_y', 'destino', 'destino_x', 'destino_y', 'distancia']]\n",
        "resultados.head()"
      ]
    },
    {
      "cell_type": "code",
      "execution_count": null,
      "id": "afaf8dfb",
      "metadata": {},
      "outputs": [],
      "source": [
        "print(f'df original: {df.shape}')\n",
        "print(f'df zonas: {resultados.shape}')"
      ]
    },
    {
      "cell_type": "code",
      "execution_count": 70,
      "id": "aeb7334e-f7d1-4b93-a1d8-506d7c8dfce8",
      "metadata": {
        "id": "aeb7334e-f7d1-4b93-a1d8-506d7c8dfce8"
      },
      "outputs": [],
      "source": [
        "path = \"./outputs\"\n",
        "\n",
        "if not os.path.exists(path):\n",
        "    os.makedirs(path)\n",
        "\n",
        "# df.to_csv('matrix.csv', index=False)\n",
        "resultados.to_excel('./outputs/matriz_de_distancias.xlsx', index=False)"
      ]
    }
  ],
  "metadata": {
    "colab": {
      "provenance": []
    },
    "kernelspec": {
      "display_name": "Python 3",
      "name": "python3"
    },
    "language_info": {
      "codemirror_mode": {
        "name": "ipython",
        "version": 3
      },
      "file_extension": ".py",
      "mimetype": "text/x-python",
      "name": "python",
      "nbconvert_exporter": "python",
      "pygments_lexer": "ipython3",
      "version": "3.9.15"
    }
  },
  "nbformat": 4,
  "nbformat_minor": 5
}
